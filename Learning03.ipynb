{
 "cells": [
  {
   "cell_type": "code",
   "execution_count": 1,
   "id": "bba76624",
   "metadata": {},
   "outputs": [],
   "source": [
    "def hey():\n",
    "    print(\"Hey there!\")\n",
    "    print(\"How are you doing?\")"
   ]
  },
  {
   "cell_type": "code",
   "execution_count": 2,
   "id": "83a2409a",
   "metadata": {},
   "outputs": [
    {
     "name": "stdout",
     "output_type": "stream",
     "text": [
      "Hey there!\n",
      "How are you doing?\n"
     ]
    }
   ],
   "source": [
    "hey()"
   ]
  },
  {
   "cell_type": "code",
   "execution_count": 14,
   "id": "4e27cecf",
   "metadata": {},
   "outputs": [],
   "source": [
    "def hello(name):\n",
    "    print(\"Hello {}! How are you doin?\".format(name));"
   ]
  },
  {
   "cell_type": "code",
   "execution_count": 15,
   "id": "eccdbd0a",
   "metadata": {},
   "outputs": [
    {
     "name": "stdout",
     "output_type": "stream",
     "text": [
      "Hello khaja! How are you doin?\n"
     ]
    }
   ],
   "source": [
    "hello(\"khaja\")"
   ]
  },
  {
   "cell_type": "code",
   "execution_count": 16,
   "id": "ce375deb",
   "metadata": {},
   "outputs": [
    {
     "name": "stdout",
     "output_type": "stream",
     "text": [
      "Hello Azhar! How are you doin?\n"
     ]
    }
   ],
   "source": [
    "hello(\"Azhar\")"
   ]
  },
  {
   "cell_type": "code",
   "execution_count": 20,
   "id": "5839c424",
   "metadata": {},
   "outputs": [],
   "source": [
    "def filter_even(number_list):\n",
    "    result_list = []\n",
    "    for number in number_list:\n",
    "        if number % 2 == 0:\n",
    "            result_list.append(number)\n",
    "    return result_list"
   ]
  },
  {
   "cell_type": "code",
   "execution_count": 21,
   "id": "51db0148",
   "metadata": {},
   "outputs": [],
   "source": [
    "even_list = filter_even([1, 2, 3, 4, 5, 6, 7])"
   ]
  },
  {
   "cell_type": "code",
   "execution_count": 22,
   "id": "d3108f94",
   "metadata": {},
   "outputs": [
    {
     "data": {
      "text/plain": [
       "[2, 4, 6]"
      ]
     },
     "execution_count": 22,
     "metadata": {},
     "output_type": "execute_result"
    }
   ],
   "source": [
    "even_list\n"
   ]
  },
  {
   "cell_type": "markdown",
   "id": "9bd81c45",
   "metadata": {},
   "source": [
    "# Here we are creating an EMI calculator"
   ]
  },
  {
   "cell_type": "code",
   "execution_count": 45,
   "id": "e6f75290",
   "metadata": {},
   "outputs": [],
   "source": [
    "def loan_emi(amount):\n",
    "    emi = amount / 12\n",
    "    print('The EMI is ${}'.format(emi))"
   ]
  },
  {
   "cell_type": "code",
   "execution_count": 46,
   "id": "5007f993",
   "metadata": {},
   "outputs": [
    {
     "name": "stdout",
     "output_type": "stream",
     "text": [
      "The EMI is $10500.0\n"
     ]
    }
   ],
   "source": [
    "loan_emi(126000)"
   ]
  },
  {
   "cell_type": "code",
   "execution_count": 47,
   "id": "d48c5294",
   "metadata": {},
   "outputs": [],
   "source": [
    "def loan_emi(amount, duration):\n",
    "    emi = amount/ duration        # these are the local variables as they are defined under a function where as if you define a \n",
    "    print(\"The EMI is ${}\" .format(emi)) # variable outside a function then it is called a global variable."
   ]
  },
  {
   "cell_type": "code",
   "execution_count": 48,
   "id": "5239bfc5",
   "metadata": {},
   "outputs": [
    {
     "name": "stdout",
     "output_type": "stream",
     "text": [
      "The EMI is $13125.0\n"
     ]
    }
   ],
   "source": [
    "loan_emi(1260000, 8*12) # 8 Year loan without a down payment"
   ]
  },
  {
   "cell_type": "code",
   "execution_count": 49,
   "id": "dee2382f",
   "metadata": {},
   "outputs": [
    {
     "name": "stdout",
     "output_type": "stream",
     "text": [
      "The EMI is $10500.0\n"
     ]
    }
   ],
   "source": [
    "loan_emi(1260000, 10*12) # 10 Yaer loan without a down payment"
   ]
  },
  {
   "cell_type": "code",
   "execution_count": 50,
   "id": "6d1ad111",
   "metadata": {},
   "outputs": [],
   "source": [
    "def loan_emi(amount, duration):\n",
    "    emi = amount/duration\n",
    "    return emi"
   ]
  },
  {
   "cell_type": "code",
   "execution_count": 51,
   "id": "0521bf21",
   "metadata": {},
   "outputs": [],
   "source": [
    "emi1= loan_emi(1260000, 8*12)"
   ]
  },
  {
   "cell_type": "code",
   "execution_count": 52,
   "id": "bd324d61",
   "metadata": {},
   "outputs": [],
   "source": [
    "emi2= loan_emi(1260000, 10*12)"
   ]
  },
  {
   "cell_type": "code",
   "execution_count": 53,
   "id": "34424091",
   "metadata": {},
   "outputs": [
    {
     "data": {
      "text/plain": [
       "13125.0"
      ]
     },
     "execution_count": 53,
     "metadata": {},
     "output_type": "execute_result"
    }
   ],
   "source": [
    "emi1"
   ]
  },
  {
   "cell_type": "code",
   "execution_count": 55,
   "id": "c6d70c5d",
   "metadata": {},
   "outputs": [
    {
     "data": {
      "text/plain": [
       "10500.0"
      ]
     },
     "execution_count": 55,
     "metadata": {},
     "output_type": "execute_result"
    }
   ],
   "source": [
    "emi2\n"
   ]
  },
  {
   "cell_type": "code",
   "execution_count": 56,
   "id": "514a3b5b",
   "metadata": {},
   "outputs": [
    {
     "data": {
      "text/plain": [
       "2625.0"
      ]
     },
     "execution_count": 56,
     "metadata": {},
     "output_type": "execute_result"
    }
   ],
   "source": [
    "emi1-emi2 # difference without considering the down payment"
   ]
  },
  {
   "cell_type": "code",
   "execution_count": 57,
   "id": "1ec4ba1c",
   "metadata": {},
   "outputs": [],
   "source": [
    "def loan_emi(amount, duration, down_payment=0): # we used '=0' because if we don't have a down payment pyton will take it as 0!\n",
    "    loan_amount = amount-down_payment\n",
    "    emi= loan_amount/ duration\n",
    "    return emi"
   ]
  },
  {
   "cell_type": "code",
   "execution_count": 58,
   "id": "03f025ce",
   "metadata": {},
   "outputs": [
    {
     "data": {
      "text/plain": [
       "10000.0"
      ]
     },
     "execution_count": 58,
     "metadata": {},
     "output_type": "execute_result"
    }
   ],
   "source": [
    "emi1= loan_emi(1260000, 8*12, 300000)\n",
    "emi1"
   ]
  },
  {
   "cell_type": "code",
   "execution_count": 59,
   "id": "ee2175e4",
   "metadata": {},
   "outputs": [
    {
     "data": {
      "text/plain": [
       "10500.0"
      ]
     },
     "execution_count": 59,
     "metadata": {},
     "output_type": "execute_result"
    }
   ],
   "source": [
    "emi2= loan_emi(1260000, 10*12)\n",
    "emi2"
   ]
  },
  {
   "cell_type": "code",
   "execution_count": 76,
   "id": "c4539171",
   "metadata": {},
   "outputs": [],
   "source": [
    "def loan_emi(amount, duration, rate, down_payment=0): #we passed the down payment to the laon amount\n",
    "    loan_amount = amount - down_payment\n",
    "    emi= loan_amount * rate * ((1+rate)**duration) / (((1+rate)**duration) -1)\n",
    "    return emi"
   ]
  },
  {
   "cell_type": "code",
   "execution_count": 81,
   "id": "7c34df80",
   "metadata": {
    "scrolled": true
   },
   "outputs": [
    {
     "data": {
      "text/plain": [
       "14567.19753389219"
      ]
     },
     "execution_count": 81,
     "metadata": {},
     "output_type": "execute_result"
    }
   ],
   "source": [
    "loan_emi(1260000, 8*12, 0.1/12, 300000)"
   ]
  },
  {
   "cell_type": "code",
   "execution_count": 82,
   "id": "35d84f26",
   "metadata": {},
   "outputs": [
    {
     "data": {
      "text/plain": [
       "15287.276888775077"
      ]
     },
     "execution_count": 82,
     "metadata": {},
     "output_type": "execute_result"
    }
   ],
   "source": [
    "loan_emi(1260000,10*12, 0.08/12)"
   ]
  },
  {
   "cell_type": "markdown",
   "id": "41ddc52c",
   "metadata": {},
   "source": [
    "# Optional Answer by Using named Arguments"
   ]
  },
  {
   "cell_type": "code",
   "execution_count": 95,
   "id": "f776dac1",
   "metadata": {},
   "outputs": [
    {
     "data": {
      "text/plain": [
       "14567"
      ]
     },
     "execution_count": 95,
     "metadata": {},
     "output_type": "execute_result"
    }
   ],
   "source": [
    "emi_1= loan_emi(amount=1260000, duration= 8*12, rate= 0.1/12, down_payment=300000)\n",
    "round(emi_1)"
   ]
  },
  {
   "cell_type": "code",
   "execution_count": 94,
   "id": "301be40f",
   "metadata": {},
   "outputs": [
    {
     "data": {
      "text/plain": [
       "15287.28"
      ]
     },
     "execution_count": 94,
     "metadata": {},
     "output_type": "execute_result"
    }
   ],
   "source": [
    "emi_2= loan_emi(amount=1260000, duration= 10*12, rate= 0.08/12)\n",
    "round(emi_2,2) # We can round up to 2 decimal places, just the format to remember"
   ]
  },
  {
   "cell_type": "code",
   "execution_count": 96,
   "id": "8ba98280",
   "metadata": {},
   "outputs": [],
   "source": [
    "import math\n"
   ]
  },
  {
   "cell_type": "code",
   "execution_count": 97,
   "id": "5d6c7d03",
   "metadata": {},
   "outputs": [
    {
     "name": "stdout",
     "output_type": "stream",
     "text": [
      "Help on built-in function ceil in module math:\n",
      "\n",
      "ceil(x, /)\n",
      "    Return the ceiling of x as an Integral.\n",
      "    \n",
      "    This is the smallest integer >= x.\n",
      "\n"
     ]
    }
   ],
   "source": [
    "help(math.ceil)"
   ]
  },
  {
   "cell_type": "code",
   "execution_count": 98,
   "id": "b32dc466",
   "metadata": {},
   "outputs": [
    {
     "data": {
      "text/plain": [
       "2"
      ]
     },
     "execution_count": 98,
     "metadata": {},
     "output_type": "execute_result"
    }
   ],
   "source": [
    "math.ceil(1.2)"
   ]
  },
  {
   "cell_type": "code",
   "execution_count": 99,
   "id": "033852c7",
   "metadata": {},
   "outputs": [],
   "source": [
    "def loan_emi(amount, duration, rate, down_payment=0): # Main defining of loan_emi\n",
    "    loan_amount = amount - down_payment\n",
    "    emi = loan_amount * rate * ((1+rate)**duration) / (((1+rate)**duration)-1)\n",
    "    emi = math.ceil(emi)\n",
    "    return emi"
   ]
  },
  {
   "cell_type": "code",
   "execution_count": 100,
   "id": "14e385f0",
   "metadata": {},
   "outputs": [],
   "source": [
    "emi1 = loan_emi(\n",
    "    amount=1260000, \n",
    "    duration=8*12, \n",
    "    rate=0.1/12, \n",
    "    down_payment=3e5\n",
    ")"
   ]
  },
  {
   "cell_type": "code",
   "execution_count": 101,
   "id": "e1cc815b",
   "metadata": {},
   "outputs": [
    {
     "data": {
      "text/plain": [
       "14568"
      ]
     },
     "execution_count": 101,
     "metadata": {},
     "output_type": "execute_result"
    }
   ],
   "source": [
    "emi1"
   ]
  },
  {
   "cell_type": "code",
   "execution_count": 102,
   "id": "83110e78",
   "metadata": {},
   "outputs": [
    {
     "data": {
      "text/plain": [
       "15288"
      ]
     },
     "execution_count": 102,
     "metadata": {},
     "output_type": "execute_result"
    }
   ],
   "source": [
    "emi2 = loan_emi(amount=1260000, duration=10*12, rate=0.08/12)\n",
    "emi2"
   ]
  },
  {
   "cell_type": "code",
   "execution_count": 105,
   "id": "adcbe4ca",
   "metadata": {},
   "outputs": [
    {
     "name": "stdout",
     "output_type": "stream",
     "text": [
      "Option 1 has the lower EMI: $14568\n"
     ]
    }
   ],
   "source": [
    "if emi1 < emi2:\n",
    "    print (\"Option 1 has the lower EMI: ${}\" .format(emi1))\n",
    "else:\n",
    "    print (\"Option 2 has the lower EMI ${}\" .format(emi2))\n",
    "        "
   ]
  },
  {
   "cell_type": "code",
   "execution_count": 108,
   "id": "fec0a6a4",
   "metadata": {},
   "outputs": [
    {
     "data": {
      "text/plain": [
       "10230"
      ]
     },
     "execution_count": 108,
     "metadata": {},
     "output_type": "execute_result"
    }
   ],
   "source": [
    "house_payment =800000\n",
    "home_down_payment= 0.25 * 800000\n",
    "home_rate = 0.07/12\n",
    "home_duration= 6*12\n",
    "\n",
    "house_emi= loan_emi(amount=house_payment, duration=home_duration, rate=home_rate,down_payment=home_down_payment) \n",
    "house_emi"
   ]
  },
  {
   "cell_type": "code",
   "execution_count": 109,
   "id": "7a9c68f9",
   "metadata": {},
   "outputs": [
    {
     "data": {
      "text/plain": [
       "5331"
      ]
     },
     "execution_count": 109,
     "metadata": {},
     "output_type": "execute_result"
    }
   ],
   "source": [
    "car_payment =60000\n",
    "car_rate = 0.12/12\n",
    "car_duration= 1*12\n",
    "\n",
    "car_emi= loan_emi(amount=car_payment, duration=car_duration, rate=car_rate,down_payment=0) \n",
    "car_emi"
   ]
  },
  {
   "cell_type": "code",
   "execution_count": 111,
   "id": "c6f15a57",
   "metadata": {},
   "outputs": [
    {
     "name": "stdout",
     "output_type": "stream",
     "text": [
      "Shawn pays total Payment of $15561 per month\n"
     ]
    }
   ],
   "source": [
    "print(\"Shawn pays total Payment of ${} per month\" .format(house_emi+car_emi))"
   ]
  },
  {
   "cell_type": "code",
   "execution_count": 113,
   "id": "65cba28d",
   "metadata": {},
   "outputs": [
    {
     "data": {
      "text/plain": [
       "1267"
      ]
     },
     "execution_count": 113,
     "metadata": {},
     "output_type": "execute_result"
    }
   ],
   "source": [
    "emi_with_interest= loan_emi(amount=100000, duration = 10*12, rate= 0.09/12)\n",
    "emi_with_interest"
   ]
  },
  {
   "cell_type": "code",
   "execution_count": 119,
   "id": "0e5e4736",
   "metadata": {},
   "outputs": [
    {
     "ename": "ZeroDivisionError",
     "evalue": "float division by zero",
     "output_type": "error",
     "traceback": [
      "\u001b[1;31m---------------------------------------------------------------------------\u001b[0m",
      "\u001b[1;31mZeroDivisionError\u001b[0m                         Traceback (most recent call last)",
      "Cell \u001b[1;32mIn[119], line 1\u001b[0m\n\u001b[1;32m----> 1\u001b[0m emi_without_interest\u001b[38;5;241m=\u001b[39m \u001b[43mloan_emi\u001b[49m\u001b[43m(\u001b[49m\u001b[43mamount\u001b[49m\u001b[38;5;241;43m=\u001b[39;49m\u001b[38;5;241;43m100000\u001b[39;49m\u001b[43m,\u001b[49m\u001b[43m \u001b[49m\u001b[43mduration\u001b[49m\u001b[43m \u001b[49m\u001b[38;5;241;43m=\u001b[39;49m\u001b[43m \u001b[49m\u001b[38;5;241;43m10\u001b[39;49m\u001b[38;5;241;43m*\u001b[39;49m\u001b[38;5;241;43m12\u001b[39;49m\u001b[43m,\u001b[49m\u001b[43m \u001b[49m\u001b[43mrate\u001b[49m\u001b[38;5;241;43m=\u001b[39;49m\u001b[43m \u001b[49m\u001b[38;5;241;43m0\u001b[39;49m\u001b[38;5;241;43m/\u001b[39;49m\u001b[38;5;241;43m12\u001b[39;49m\u001b[43m)\u001b[49m\n\u001b[0;32m      2\u001b[0m emi_without_interest\n",
      "Cell \u001b[1;32mIn[99], line 3\u001b[0m, in \u001b[0;36mloan_emi\u001b[1;34m(amount, duration, rate, down_payment)\u001b[0m\n\u001b[0;32m      1\u001b[0m \u001b[38;5;28;01mdef\u001b[39;00m \u001b[38;5;21mloan_emi\u001b[39m(amount, duration, rate, down_payment\u001b[38;5;241m=\u001b[39m\u001b[38;5;241m0\u001b[39m):\n\u001b[0;32m      2\u001b[0m     loan_amount \u001b[38;5;241m=\u001b[39m amount \u001b[38;5;241m-\u001b[39m down_payment\n\u001b[1;32m----> 3\u001b[0m     emi \u001b[38;5;241m=\u001b[39m \u001b[43mloan_amount\u001b[49m\u001b[43m \u001b[49m\u001b[38;5;241;43m*\u001b[39;49m\u001b[43m \u001b[49m\u001b[43mrate\u001b[49m\u001b[43m \u001b[49m\u001b[38;5;241;43m*\u001b[39;49m\u001b[43m \u001b[49m\u001b[43m(\u001b[49m\u001b[43m(\u001b[49m\u001b[38;5;241;43m1\u001b[39;49m\u001b[38;5;241;43m+\u001b[39;49m\u001b[43mrate\u001b[49m\u001b[43m)\u001b[49m\u001b[38;5;241;43m*\u001b[39;49m\u001b[38;5;241;43m*\u001b[39;49m\u001b[43mduration\u001b[49m\u001b[43m)\u001b[49m\u001b[43m \u001b[49m\u001b[38;5;241;43m/\u001b[39;49m\u001b[43m \u001b[49m\u001b[43m(\u001b[49m\u001b[43m(\u001b[49m\u001b[43m(\u001b[49m\u001b[38;5;241;43m1\u001b[39;49m\u001b[38;5;241;43m+\u001b[39;49m\u001b[43mrate\u001b[49m\u001b[43m)\u001b[49m\u001b[38;5;241;43m*\u001b[39;49m\u001b[38;5;241;43m*\u001b[39;49m\u001b[43mduration\u001b[49m\u001b[43m)\u001b[49m\u001b[38;5;241;43m-\u001b[39;49m\u001b[38;5;241;43m1\u001b[39;49m\u001b[43m)\u001b[49m\n\u001b[0;32m      4\u001b[0m     emi \u001b[38;5;241m=\u001b[39m math\u001b[38;5;241m.\u001b[39mceil(emi)\n\u001b[0;32m      5\u001b[0m     \u001b[38;5;28;01mreturn\u001b[39;00m emi\n",
      "\u001b[1;31mZeroDivisionError\u001b[0m: float division by zero"
     ]
    }
   ],
   "source": [
    "emi_without_interest= loan_emi(amount=100000, duration = 10*12, rate= 0/12)\n",
    "emi_without_interest"
   ]
  },
  {
   "cell_type": "code",
   "execution_count": 120,
   "id": "05022d4c",
   "metadata": {},
   "outputs": [],
   "source": [
    "def loan_emi(amount, duration, rate, down_payment=0): # Error handling by using try and except concept \n",
    "    loan_amount = amount - down_payment\n",
    "    try:\n",
    "        emi = loan_amount * rate * ((1+rate)**duration) / (((1+rate)**duration)-1)\n",
    "    except ZeroDivisionError:\n",
    "        emi= loan_amount / duration\n",
    "    emi = math.ceil(emi)\n",
    "    return emi"
   ]
  },
  {
   "cell_type": "code",
   "execution_count": 121,
   "id": "879a6ff8",
   "metadata": {},
   "outputs": [
    {
     "data": {
      "text/plain": [
       "834"
      ]
     },
     "execution_count": 121,
     "metadata": {},
     "output_type": "execute_result"
    }
   ],
   "source": [
    "emi_without_interest= loan_emi(amount=100000, duration = 10*12, rate= 0/12)\n",
    "emi_without_interest"
   ]
  },
  {
   "cell_type": "code",
   "execution_count": 122,
   "id": "0ed4d6ad",
   "metadata": {},
   "outputs": [
    {
     "data": {
      "text/plain": [
       "51960"
      ]
     },
     "execution_count": 122,
     "metadata": {},
     "output_type": "execute_result"
    }
   ],
   "source": [
    "total_interest = (emi_with_interest-emi_without_interest) *10*12\n",
    "total_interest"
   ]
  },
  {
   "cell_type": "code",
   "execution_count": 123,
   "id": "28add95a",
   "metadata": {},
   "outputs": [
    {
     "name": "stdout",
     "output_type": "stream",
     "text": [
      "The Total Interest paid is $51960\n"
     ]
    }
   ],
   "source": [
    "print(\"The Total Interest paid is ${}\" .format(total_interest))"
   ]
  },
  {
   "cell_type": "code",
   "execution_count": null,
   "id": "f6d2fb3d",
   "metadata": {},
   "outputs": [],
   "source": []
  }
 ],
 "metadata": {
  "kernelspec": {
   "display_name": "Python 3 (ipykernel)",
   "language": "python",
   "name": "python3"
  },
  "language_info": {
   "codemirror_mode": {
    "name": "ipython",
    "version": 3
   },
   "file_extension": ".py",
   "mimetype": "text/x-python",
   "name": "python",
   "nbconvert_exporter": "python",
   "pygments_lexer": "ipython3",
   "version": "3.10.9"
  }
 },
 "nbformat": 4,
 "nbformat_minor": 5
}
